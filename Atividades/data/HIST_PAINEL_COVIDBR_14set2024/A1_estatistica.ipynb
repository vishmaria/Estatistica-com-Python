{
  "cells": [
    {
      "cell_type": "markdown",
      "metadata": {},
      "source": [
        "# A1 INE5405 - Probabilidade e Estatística\n",
        "## Análise de Dados da COVID-19 no Brasil"
      ]
    },
    {
      "cell_type": "markdown",
      "metadata": {},
      "source": [
        "- (a) Escolher um tema de sua área, ou de sua preferência.\n",
        "- (b) Selecionar, no mínimo, seis variáveis de interesse (que englobem variáveis qualitativas e\n",
        "quantitativas – pelo menos duas de cada), que devem ser descritas e classificadas na Seção\n",
        "“Materiais e Métodos”. É requerido um conjunto de dados com no mínimo 30 linhas. O conjunto de\n",
        "dados será escolhido pelo grupo, com acesso público (sugestão Portal Brasileiro de Dados Abertos\n",
        "https://dados.gov.br/)\n",
        "- (c) Definir claramente as variáveis em estudo: fazer uma breve descrição dos dados, com qual\n",
        "finalidade estas variáveis foram escolhidas e classificá-las corretamente.\n",
        "- (d) Construir tabelas de frequência para as variáveis de interesse e realizar discussões acerca das\n",
        "mesmas.\n",
        "- (e) Apresentar gráficos adequados para cada uma das variáveis, discutindo-os.\n",
        "- (f) Calcular, apresentar e discutir as medidas de resumo das variáveis em questão.\n",
        "- (g) Relacionar as variáveis duas a duas utilizando tabelas ou gráficos, discutindo-os."
      ]
    },
    {
      "cell_type": "markdown",
      "metadata": {
        "colab_type": "text",
        "id": "view-in-github"
      },
      "source": [
        "<a href=\"https://colab.research.google.com/github/vishmaria/Estatistica-com-Python/blob/main/A1_estatistica.ipynb\" target=\"_parent\"><img src=\"https://colab.research.google.com/assets/colab-badge.svg\" alt=\"Open In Colab\"/></a>"
      ]
    },
    {
      "cell_type": "code",
      "execution_count": 15,
      "metadata": {
        "id": "j4gFNARS0hyb"
      },
      "outputs": [],
      "source": [
        "# Importar bibliotecas necessárias\n",
        "import numpy as np\n",
        "import pandas as pd\n",
        "import seaborn as sns\n",
        "\n",
        "# Configurar pandas\n",
        "pd.set_option('display.max_rows', 100)"
      ]
    },
    {
      "cell_type": "markdown",
      "metadata": {
        "id": "ZQEeo7UR96aS"
      },
      "source": [
        "# Análise exploratória"
      ]
    },
    {
      "cell_type": "code",
      "execution_count": 19,
      "metadata": {
        "colab": {
          "base_uri": "https://localhost:8080/",
          "height": 574
        },
        "id": "4lYeiosA96N6",
        "outputId": "504ab32d-9973-4a51-c3e8-27bf49975dec"
      },
      "outputs": [
        {
          "name": "stdout",
          "output_type": "stream",
          "text": [
            "<class 'pandas.core.frame.DataFrame'>\n",
            "Index: 1449702 entries, 0 to 427043\n",
            "Data columns (total 17 columns):\n",
            " #   Column                  Non-Null Count    Dtype  \n",
            "---  ------                  --------------    -----  \n",
            " 0   regiao                  1449702 non-null  object \n",
            " 1   estado                  1449444 non-null  object \n",
            " 2   municipio               1437060 non-null  object \n",
            " 3   coduf                   1449702 non-null  int64  \n",
            " 4   codmun                  1442478 non-null  float64\n",
            " 5   codRegiaoSaude          1437060 non-null  float64\n",
            " 6   nomeRegiaoSaude         1437060 non-null  object \n",
            " 7   data                    1449702 non-null  object \n",
            " 8   semanaEpi               1449702 non-null  int64  \n",
            " 9   populacaoTCU2019        1444284 non-null  float64\n",
            " 10  casosAcumulado          1449702 non-null  int64  \n",
            " 11  casosNovos              1449702 non-null  int64  \n",
            " 12  obitosAcumulado         1449702 non-null  int64  \n",
            " 13  obitosNovos             1449702 non-null  int64  \n",
            " 14  Recuperadosnovos        257 non-null      float64\n",
            " 15  emAcompanhamentoNovos   257 non-null      float64\n",
            " 16  interior/metropolitana  1437060 non-null  float64\n",
            "dtypes: float64(6), int64(6), object(5)\n",
            "memory usage: 199.1+ MB\n"
          ]
        }
      ],
      "source": [
        "df_20201 = pd.read_csv('data/HIST_PAINEL_COVIDBR_14set2024/HIST_PAINEL_COVIDBR_2024_Parte1_14set2024.csv',sep = ';')\n",
        "df_20202 = pd.read_csv('data/HIST_PAINEL_COVIDBR_14set2024/HIST_PAINEL_COVIDBR_2024_Parte2_14set2024.csv',sep = ';')\n",
        "df_2020 = pd.concat([df_20201, df_20202])"
      ]
    },
    {
      "cell_type": "code",
      "execution_count": null,
      "metadata": {},
      "outputs": [],
      "source": [
        "df_2024 = "
      ]
    },
    {
      "cell_type": "code",
      "execution_count": null,
      "metadata": {
        "colab": {
          "base_uri": "https://localhost:8080/",
          "height": 364
        },
        "id": "2b7FmOEu_nAS",
        "outputId": "39ffe1f3-e790-44ad-9f93-173124278b74"
      },
      "outputs": [],
      "source": [
        "df.describe()"
      ]
    },
    {
      "cell_type": "code",
      "execution_count": null,
      "metadata": {
        "colab": {
          "base_uri": "https://localhost:8080/",
          "height": 427
        },
        "id": "L1CMVjkWDH3y",
        "outputId": "80917f70-7c14-4ffe-bd3e-13e872ec35a3"
      },
      "outputs": [],
      "source": [
        "df.head(10)"
      ]
    },
    {
      "cell_type": "code",
      "execution_count": null,
      "metadata": {
        "colab": {
          "base_uri": "https://localhost:8080/",
          "height": 844
        },
        "id": "8KFU9ERhDLt_",
        "outputId": "e48a981c-d921-48de-902b-95580c801235"
      },
      "outputs": [],
      "source": [
        "df.tail(15)"
      ]
    },
    {
      "cell_type": "code",
      "execution_count": null,
      "metadata": {
        "colab": {
          "base_uri": "https://localhost:8080/"
        },
        "id": "PalPwgQoDNqE",
        "outputId": "9478ecce-ebb2-4fa0-c679-ad12480d0afc"
      },
      "outputs": [],
      "source": [
        "df.dtypes"
      ]
    },
    {
      "cell_type": "code",
      "execution_count": null,
      "metadata": {
        "colab": {
          "base_uri": "https://localhost:8080/"
        },
        "id": "-1k9AnhrD8G5",
        "outputId": "391b8a21-5e55-4560-c853-904534932d74"
      },
      "outputs": [],
      "source": [
        "df.columns"
      ]
    },
    {
      "cell_type": "markdown",
      "metadata": {
        "id": "fymgF-pJEOuy"
      },
      "source": [
        "# Selecionando Dados"
      ]
    },
    {
      "cell_type": "code",
      "execution_count": null,
      "metadata": {
        "colab": {
          "base_uri": "https://localhost:8080/",
          "height": 207
        },
        "id": "PhH8OVXuDxNP",
        "outputId": "92caaff7-c9c6-4dda-d054-47828686d3e5"
      },
      "outputs": [],
      "source": [
        "# Selecionando as linhas do índice 0 ao 2, o último índice é exclusivo, ou seja, a linha do índice 3 não é mostrada\n",
        "df[0:3]"
      ]
    },
    {
      "cell_type": "code",
      "execution_count": null,
      "metadata": {
        "colab": {
          "base_uri": "https://localhost:8080/",
          "height": 270
        },
        "id": "QXn_P1QUErNX",
        "outputId": "278ad1ab-cbcd-49e3-db79-1ed5a946ac1d"
      },
      "outputs": [],
      "source": [
        "# Selecionando as linhas do índice 5 ao 9\n",
        "df[5:10]"
      ]
    },
    {
      "cell_type": "code",
      "execution_count": null,
      "metadata": {
        "colab": {
          "base_uri": "https://localhost:8080/"
        },
        "id": "knq4ZG1qE2BI",
        "outputId": "9a7089a3-cddd-4650-fbdb-1823915d1f86"
      },
      "outputs": [],
      "source": [
        "# Selecionando uma coluna\n",
        "df['regiao']"
      ]
    },
    {
      "cell_type": "code",
      "execution_count": null,
      "metadata": {
        "colab": {
          "base_uri": "https://localhost:8080/",
          "height": 423
        },
        "id": "wMNuyYOwE6aX",
        "outputId": "97139364-d363-417e-a3e0-7f0f014c72aa"
      },
      "outputs": [],
      "source": [
        "# Selecionando mais de uma coluna\n",
        "df[['regiao','casosNovos']]"
      ]
    },
    {
      "cell_type": "code",
      "execution_count": null,
      "metadata": {
        "colab": {
          "base_uri": "https://localhost:8080/",
          "height": 394
        },
        "id": "FBPS4kz1FChP",
        "outputId": "44a56f8c-2b5f-4d41-fc6e-55d8ec02fabd"
      },
      "outputs": [],
      "source": [
        "# Selecionando todas as linhas e as colunas estado e municipio\n",
        "df.loc[:,['estado',\"municipio\"]]"
      ]
    },
    {
      "cell_type": "code",
      "execution_count": null,
      "metadata": {
        "colab": {
          "base_uri": "https://localhost:8080/",
          "height": 395
        },
        "id": "jQZcUgSsF6Ne",
        "outputId": "dd46081c-95f8-46e9-b5da-c5d43edacf7f"
      },
      "outputs": [],
      "source": [
        "# Selecionando as linhas dos índices 1 a 9 e todas as colunas\n",
        "df.iloc[1:10]"
      ]
    },
    {
      "cell_type": "code",
      "execution_count": null,
      "metadata": {
        "colab": {
          "base_uri": "https://localhost:8080/",
          "height": 423
        },
        "id": "xJMivpcPGcc4",
        "outputId": "282ada16-3ac0-4501-f129-d60970bcdfbc"
      },
      "outputs": [],
      "source": [
        "#selecionando todas as linhas e algumas colunas pelas suas posições de 3 ao 10 (exclusivo)\n",
        "df.iloc[:,3:10]"
      ]
    },
    {
      "cell_type": "code",
      "execution_count": null,
      "metadata": {
        "colab": {
          "base_uri": "https://localhost:8080/",
          "height": 748
        },
        "id": "o5T_tcl0MLGe",
        "outputId": "0490fb22-5bb7-4d9c-e229-cbba4268c89c"
      },
      "outputs": [],
      "source": [
        "# Selecionando somente as linhas em que não há Nan para o municipio\n",
        "df[df.municipio.isnull()==False]"
      ]
    },
    {
      "cell_type": "markdown",
      "metadata": {
        "id": "K6b26K8SGp45"
      },
      "source": [
        "# Indexação Booleana"
      ]
    },
    {
      "cell_type": "code",
      "execution_count": null,
      "metadata": {
        "colab": {
          "base_uri": "https://localhost:8080/",
          "height": 574
        },
        "id": "NA3yqZp2Gklu",
        "outputId": "282cbc2a-cf21-4ae2-ea1b-2c732da00dd7"
      },
      "outputs": [],
      "source": [
        "# Seleciona as linhas quando o codigo da uf é maior que 22 e menor que 51 (caso verdadeiro)\n",
        "df[(df['coduf'] > 22) & (df['coduf'] < 51)]"
      ]
    },
    {
      "cell_type": "code",
      "execution_count": null,
      "metadata": {
        "colab": {
          "base_uri": "https://localhost:8080/",
          "height": 574
        },
        "id": "4cIAOUjlHF-p",
        "outputId": "404b0b4c-fed1-4728-d735-58baa01f96d5"
      },
      "outputs": [],
      "source": [
        "# Selecionando as linhas das regiões Nordeste ou Sudeste\n",
        "df[(df['regiao'] == \"Nordeste\") | (df['regiao'] == \"Sudeste\")]"
      ]
    },
    {
      "cell_type": "markdown",
      "metadata": {
        "id": "3VjSAcvaHmLG"
      },
      "source": [
        "# Operações"
      ]
    },
    {
      "cell_type": "code",
      "execution_count": null,
      "metadata": {
        "colab": {
          "base_uri": "https://localhost:8080/",
          "height": 896
        },
        "id": "Zpsi4z4KHcNQ",
        "outputId": "6b3f17ce-7e2b-49a2-d786-9a55ddae22ce"
      },
      "outputs": [],
      "source": [
        "# Quantidade de entradas por estado\n",
        "dados = df['estado'].value_counts()\n",
        "pd.DataFrame(dados)\n",
        "\n",
        "#Ex: DataFrame de vendas em que cada linha é uma venda\n",
        "# dados = df['vendedor'].value_counts()"
      ]
    },
    {
      "cell_type": "code",
      "execution_count": null,
      "metadata": {
        "colab": {
          "base_uri": "https://localhost:8080/",
          "height": 269
        },
        "id": "kBEqhVZiIQ__",
        "outputId": "30037492-a8f3-494b-f341-2fcf3cbfb84a"
      },
      "outputs": [],
      "source": [
        "# Media de casos por região\n",
        "df[['casosNovos','regiao']].groupby(['regiao']).mean()"
      ]
    },
    {
      "cell_type": "code",
      "execution_count": null,
      "metadata": {
        "colab": {
          "base_uri": "https://localhost:8080/",
          "height": 269
        },
        "id": "ezuiug-XIcaO",
        "outputId": "70d3487f-18f8-4f74-b942-d2c68221bf3d"
      },
      "outputs": [],
      "source": [
        "df[['casosNovos','regiao']].groupby(['regiao']).sum()"
      ]
    },
    {
      "cell_type": "code",
      "execution_count": null,
      "metadata": {
        "id": "X9E-l0LiK2HW"
      },
      "outputs": [],
      "source": [
        "df1 = df[['regiao','casosNovos','estado']].groupby(['regiao','estado']).agg(['mean', 'std','count','median']) # agg = aggregation"
      ]
    },
    {
      "cell_type": "markdown",
      "metadata": {
        "id": "x9R_WkzEI30H"
      },
      "source": [
        "# Agregação"
      ]
    },
    {
      "cell_type": "code",
      "execution_count": null,
      "metadata": {
        "colab": {
          "base_uri": "https://localhost:8080/",
          "height": 425
        },
        "id": "GjgJOg4XIuuW",
        "outputId": "17d5da05-7e71-4fd3-cfff-1dd8122e3d31"
      },
      "outputs": [],
      "source": [
        "# Concatenação (empilhando os dados)\n",
        "df1 = pd.DataFrame(\n",
        "    {\n",
        "      \"Luciano\": [\"A0\", \"A1\", \"A2\", \"A3\"],\n",
        "      \"Maria\": [\"B0\", \"B1\", \"B2\", \"B3\"],\n",
        "      \"Benjamim\": [\"C0\", \"C1\", \"C2\", \"C3\"],\n",
        "      \"Celle\": [\"D0\", \"D1\", \"D2\", \"D3\"],\n",
        "    },\n",
        "    index=[0, 1, 2, 3],\n",
        ")\n",
        "\n",
        "df2 = pd.DataFrame(\n",
        "    {\n",
        "      \"Luciano\": [\"A4\", \"A5\", \"A6\", \"A7\"],\n",
        "      \"Maria\": [\"B4\", \"B5\", \"B6\", \"B7\"],\n",
        "      \"Benjamim\": [\"C4\", \"C5\", \"C6\", \"C7\"],\n",
        "      \"Celle\": [\"D4\", \"D5\", \"D6\", \"D7\"],\n",
        "   },\n",
        "    index=[4, 5, 6, 7],\n",
        ")\n",
        "\n",
        "df3 = pd.DataFrame(\n",
        "    {\n",
        "      \"Luciano\": [\"A8\", \"A9\", \"A10\", \"A11\"],\n",
        "      \"Maria\": [\"B8\", \"B9\", \"B10\", \"B11\"],\n",
        "      \"Benjamim\": [\"C8\", \"C9\", \"C10\", \"C11\"],\n",
        "      \"Celle\": [\"D8\", \"D9\", \"D10\", \"D11\"],\n",
        "    },\n",
        "    index=[8, 9, 10, 11]\n",
        ")\n",
        "# frames = [df1, df2, df3]\n",
        "# result = pd.concat(frames)\n",
        "# result\n",
        "result1 = pd.concat([df1, df2,df3])\n",
        "result1"
      ]
    },
    {
      "cell_type": "code",
      "execution_count": null,
      "metadata": {
        "id": "mmHhkkdKJ1av"
      },
      "outputs": [],
      "source": [
        "#Merge - guenta um pouco mais que ja vamos ver!\n",
        "# Conceito de chave, possuo dois conjuntos de dados e eles compartilham uma coluna, que nesse caso é o código de município, por exemplo."
      ]
    },
    {
      "cell_type": "markdown",
      "metadata": {
        "id": "CC2HLSDBJ_9N"
      },
      "source": [
        "# Tratando os dados na prática"
      ]
    },
    {
      "cell_type": "code",
      "execution_count": null,
      "metadata": {
        "colab": {
          "base_uri": "https://localhost:8080/",
          "height": 423
        },
        "id": "VpQJsbCWKCT2",
        "outputId": "55f8704c-af26-4a94-d023-1bb9bad567ff"
      },
      "outputs": [],
      "source": [
        "# Carregando os dados da tabela município\n",
        "munic = pd.read_csv('/content/municipios.csv')\n",
        "munic"
      ]
    },
    {
      "cell_type": "code",
      "execution_count": null,
      "metadata": {
        "colab": {
          "base_uri": "https://localhost:8080/",
          "height": 322
        },
        "id": "vE7GA2sIO8T3",
        "outputId": "44b41c49-d975-422d-e655-add7b9fa47bf"
      },
      "outputs": [],
      "source": [
        "# axis = 0 - linha que quero excluir, axis = 1 quero excluir as colunas\n",
        "df = df.drop(['municipio','codmun','codRegiaoSaude','nomeRegiaoSaude','semanaEpi','interior/metropolitana', 'emAcompanhamentoNovos'], axis = 1)"
      ]
    },
    {
      "cell_type": "code",
      "execution_count": null,
      "metadata": {
        "colab": {
          "base_uri": "https://localhost:8080/",
          "height": 423
        },
        "id": "iKcIw35aQv38",
        "outputId": "74b30190-0427-4c92-8a68-17674815c3f1"
      },
      "outputs": [],
      "source": [
        "df"
      ]
    },
    {
      "cell_type": "code",
      "execution_count": null,
      "metadata": {
        "colab": {
          "base_uri": "https://localhost:8080/"
        },
        "id": "HT_RTu33UFNb",
        "outputId": "4b6113fa-d863-4e81-84d1-9d90201d6661"
      },
      "outputs": [],
      "source": [
        "# Conferindo se existe null values na coluna estado\n",
        "df.estado.isnull()"
      ]
    },
    {
      "cell_type": "code",
      "execution_count": null,
      "metadata": {
        "colab": {
          "base_uri": "https://localhost:8080/",
          "height": 423
        },
        "id": "NwcpsCE7NMdj",
        "outputId": "cc5faf3d-5279-4d6e-8073-5e3139eeda6e"
      },
      "outputs": [],
      "source": [
        "df_covid = df[(df['estado'] == 'DF') | (df['estado'] == 'RR') | (df['estado'] == 'AP') | (df['estado'] == 'AC') & (df.estado.isnull() == False)]\n",
        "df_covid"
      ]
    },
    {
      "cell_type": "code",
      "execution_count": null,
      "metadata": {
        "colab": {
          "base_uri": "https://localhost:8080/",
          "height": 591
        },
        "id": "GKdlCTDIL4xJ",
        "outputId": "34dd8c82-019e-4e43-c0a5-eaf51e3b0bc9"
      },
      "outputs": [],
      "source": [
        "df_covid = pd.merge(df_covid,munic, left_on= 'coduf', right_on= 'codigo_uf')\n",
        "df_covid"
      ]
    },
    {
      "cell_type": "code",
      "execution_count": null,
      "metadata": {
        "id": "aKiz0cYRSU1r"
      },
      "outputs": [],
      "source": [
        "# Renomeando as colunas do dataframe\n",
        "df_covid.rename(columns = {'populacaoTCU2019': 'populacao', 'casosAcumulado': 'casos_acumulados', 'casosNovos': 'casos_novos', 'obitosAcumulado': 'obitos_acumulados','obitosNovos': 'obitos_novos','Recuperadosnovos':'recuperados novos'}, inplace = True)\n"
      ]
    },
    {
      "cell_type": "code",
      "execution_count": null,
      "metadata": {
        "colab": {
          "base_uri": "https://localhost:8080/",
          "height": 609
        },
        "id": "kz_caep0VyJd",
        "outputId": "66ad7ba3-5889-491e-8385-94eca1dbb2f7"
      },
      "outputs": [],
      "source": [
        "df_covid"
      ]
    },
    {
      "cell_type": "code",
      "execution_count": null,
      "metadata": {
        "colab": {
          "base_uri": "https://localhost:8080/",
          "height": 206
        },
        "id": "T6FP0xmMWBFb",
        "outputId": "4da887b9-1d5e-4702-eefd-56c8ae0d1c06"
      },
      "outputs": [],
      "source": [
        "# Media de casos por estado\n",
        "df_covid[['casos_novos','estado']].groupby(['estado']).mean()"
      ]
    },
    {
      "cell_type": "code",
      "execution_count": null,
      "metadata": {
        "colab": {
          "base_uri": "https://localhost:8080/",
          "height": 455
        },
        "id": "Qw4pZk-kWNG6",
        "outputId": "d0f4d1e2-cb1e-42e9-f51c-45cb9563892f"
      },
      "outputs": [],
      "source": [
        "df_covid[['casos_novos','data']].groupby(['data']).sum()"
      ]
    },
    {
      "cell_type": "code",
      "execution_count": null,
      "metadata": {
        "colab": {
          "base_uri": "https://localhost:8080/",
          "height": 455
        },
        "id": "_G55BfskWWTz",
        "outputId": "0dbaecd1-a690-4cf4-af51-5923a4798652"
      },
      "outputs": [],
      "source": [
        "df_covid[['casos_acumulados','obitos_acumulados','data']].groupby(['data']).sum()"
      ]
    },
    {
      "cell_type": "code",
      "execution_count": null,
      "metadata": {
        "colab": {
          "base_uri": "https://localhost:8080/",
          "height": 206
        },
        "id": "ZeBr3TXLXMCp",
        "outputId": "6cd12b9d-30e8-4d7d-ace4-cb6355580468"
      },
      "outputs": [],
      "source": [
        "casos_estado = df_covid[['casos_acumulados','obitos_acumulados','estado']].groupby(['estado']).sum()\n",
        "casos_estado"
      ]
    },
    {
      "cell_type": "code",
      "execution_count": null,
      "metadata": {
        "colab": {
          "base_uri": "https://localhost:8080/",
          "height": 206
        },
        "id": "KGd1CIgGXvHI",
        "outputId": "73576ded-c4e7-4fb8-aaf3-8f06472fc9d9"
      },
      "outputs": [],
      "source": [
        "casos_estado['casos - obitos'] = casos_estado['casos_acumulados'] - casos_estado['obitos_acumulados']\n",
        "casos_estado['casos - obitos (%)'] = casos_estado['obitos_acumulados']/casos_estado['casos_acumulados']\n",
        "casos_estado"
      ]
    },
    {
      "cell_type": "code",
      "execution_count": null,
      "metadata": {
        "id": "WHKlYr7GYQjp"
      },
      "outputs": [],
      "source": [
        "# Exportar csv\n",
        "casos_estado.to_csv(\"casos_por_estado.csv\")"
      ]
    },
    {
      "cell_type": "code",
      "execution_count": null,
      "metadata": {
        "id": "8QaRQBu5vmPH"
      },
      "outputs": [],
      "source": []
    },
    {
      "cell_type": "markdown",
      "metadata": {
        "id": "Px_4_bPWMHm3"
      },
      "source": [
        "# Gráficos"
      ]
    },
    {
      "cell_type": "code",
      "execution_count": null,
      "metadata": {
        "colab": {
          "base_uri": "https://localhost:8080/",
          "height": 488
        },
        "id": "78TjNU5sMF6t",
        "outputId": "be22a729-b28d-4942-ca35-819bb4de279e"
      },
      "outputs": [],
      "source": [
        "df_covid[['casos_novos','estado']].groupby(['estado']).sum().plot(kind='bar')"
      ]
    }
  ],
  "metadata": {
    "colab": {
      "include_colab_link": true,
      "provenance": []
    },
    "kernelspec": {
      "display_name": "Python 3",
      "name": "python3"
    },
    "language_info": {
      "codemirror_mode": {
        "name": "ipython",
        "version": 3
      },
      "file_extension": ".py",
      "mimetype": "text/x-python",
      "name": "python",
      "nbconvert_exporter": "python",
      "pygments_lexer": "ipython3",
      "version": "3.12.6"
    }
  },
  "nbformat": 4,
  "nbformat_minor": 0
}
